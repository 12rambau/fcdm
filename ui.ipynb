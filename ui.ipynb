{
 "cells": [
  {
   "cell_type": "code",
   "execution_count": null,
   "id": "6f434bc9",
   "metadata": {},
   "outputs": [],
   "source": [
    "import json\n",
    "from pathlib import Path\n",
    "import ee\n",
    "\n",
    "\n",
    "def authenticate_gee():\n",
    "    \"\"\"Authenticate GEE using the credentials file in the user's home directory.\"\"\"\n",
    "    credential_folder_path = Path.home() / \".config\" / \"earthengine\"\n",
    "    credential_file_path = credential_folder_path / \"credentials\"\n",
    "    credentials = json.loads(credential_file_path.read_text())\n",
    "    project = credentials.get(\"project_id\", credentials.get(\"project\", None))\n",
    "    ee.Initialize(project=project)\n",
    "    assert ee.data.getAssetRoots(), \"Error: You have not initialized the GEE home folder. Please follow the the SEPAL documentation: https://docs.sepal.io/en/latest/setup/gee.html#initialize-the-home-folder.\"\n",
    "    \n",
    "authenticate_gee()\n"
   ]
  },
  {
   "cell_type": "code",
   "execution_count": null,
   "metadata": {
    "tags": []
   },
   "outputs": [],
   "source": [
    "from sepal_ui import sepalwidgets as sw\n",
    "from sepal_ui import aoi\n",
    "\n",
    "from component.message import cm\n",
    "from component import model\n",
    "from component import tile"
   ]
  },
  {
   "cell_type": "code",
   "execution_count": null,
   "metadata": {
    "tags": []
   },
   "outputs": [],
   "source": [
    "# Create an appBar\n",
    "app_bar = sw.AppBar(cm.app.title)\n",
    "about_tile = sw.TileAbout(\"utils/ABOUT.md\")\n",
    "disclaimer_tile = sw.TileDisclaimer()"
   ]
  },
  {
   "cell_type": "code",
   "execution_count": null,
   "metadata": {
    "tags": []
   },
   "outputs": [],
   "source": [
    "aoi_tile = aoi.AoiTile(methods=[\"-POINTS\"])"
   ]
  },
  {
   "cell_type": "code",
   "execution_count": null,
   "metadata": {},
   "outputs": [],
   "source": [
    "fcdm_model = model.FcdmModel()"
   ]
  },
  {
   "cell_type": "code",
   "execution_count": null,
   "metadata": {},
   "outputs": [],
   "source": [
    "result_tile = tile.ResultTile()"
   ]
  },
  {
   "cell_type": "code",
   "execution_count": null,
   "metadata": {},
   "outputs": [],
   "source": [
    "process_tile = tile.QuestionnaireTile(aoi_tile, fcdm_model, result_tile)"
   ]
  },
  {
   "cell_type": "code",
   "execution_count": null,
   "metadata": {},
   "outputs": [],
   "source": [
    "# Gather all the partial tiles that you created previously\n",
    "app_content = [aoi_tile, process_tile, result_tile, about_tile, disclaimer_tile]"
   ]
  },
  {
   "cell_type": "code",
   "execution_count": null,
   "metadata": {},
   "outputs": [],
   "source": [
    "items = [\n",
    "    sw.DrawerItem(cm.app.drawer_item.aoi, \"mdi-map-marker-check\", card=\"aoi_tile\"),\n",
    "    sw.DrawerItem(cm.app.drawer_item.fcdm, \"mdi-cogs\", card=\"questionnaire_tile\"),\n",
    "    sw.DrawerItem(cm.app.drawer_item.result, \"mdi-map\", card=\"result_tile\"),\n",
    "    sw.DrawerItem(cm.app.drawer_item.about, \"mdi-help-circle\", card=\"about_tile\"),\n",
    "]\n"
   ]
  },
  {
   "cell_type": "code",
   "execution_count": null,
   "metadata": {},
   "outputs": [],
   "source": [
    "code_link = \"https://github.com/sepal-contrib/fcdm\"\n",
    "wiki_link = \"https://github.com/sepal-contrib/fcdm/blob/master/doc/fake_doc.md\"\n",
    "issue_link = \"https://github.com/sepal-contrib/fcdm/issues/new\""
   ]
  },
  {
   "cell_type": "code",
   "execution_count": null,
   "metadata": {},
   "outputs": [],
   "source": [
    "app_drawer = sw.NavDrawer(\n",
    "    items=items, code=code_link, wiki=wiki_link, issue=issue_link\n",
    ").display_drawer(app_bar.toggle_button)"
   ]
  },
  {
   "cell_type": "code",
   "execution_count": null,
   "metadata": {},
   "outputs": [],
   "source": [
    "app = sw.App(tiles=app_content, appBar=app_bar, navDrawer=app_drawer).show_tile(\n",
    "    \"aoi_tile\"\n",
    ")"
   ]
  },
  {
   "cell_type": "code",
   "execution_count": null,
   "metadata": {},
   "outputs": [],
   "source": [
    "app"
   ]
  }
 ],
 "metadata": {
  "kernelspec": {
   "display_name": "(venv) fcdm",
   "language": "python",
   "name": "venv-fcdm"
  },
  "language_info": {
   "codemirror_mode": {
    "name": "ipython",
    "version": 3
   },
   "file_extension": ".py",
   "mimetype": "text/x-python",
   "name": "python",
   "nbconvert_exporter": "python",
   "pygments_lexer": "ipython3",
   "version": "3.10.12"
  },
  "voila": {
   "theme": "dark"
  }
 },
 "nbformat": 4,
 "nbformat_minor": 4
}
